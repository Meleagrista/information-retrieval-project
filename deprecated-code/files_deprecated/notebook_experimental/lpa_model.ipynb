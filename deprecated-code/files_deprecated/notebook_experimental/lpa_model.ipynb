{
 "cells": [
  {
   "cell_type": "code",
   "execution_count": 3,
   "id": "fb5bfb4a",
   "metadata": {
    "scrolled": true
   },
   "outputs": [
    {
     "name": "stdout",
     "output_type": "stream",
     "text": [
      "Dictonary length:  1858 \n",
      "\n"
     ]
    }
   ],
   "source": [
    "from gensim.corpora import Dictionary\n",
    "\n",
    "dictionary = Dictionary.load('final_dictionary_file')\n",
    "print('Dictonary length: ', len(dictionary), '\\n')\n",
    "# for token, idx in dictionary.token2id.items(): print(token, idx)"
   ]
  },
  {
   "cell_type": "code",
   "execution_count": 4,
   "id": "87abee7e",
   "metadata": {},
   "outputs": [],
   "source": [
    "file_path = r'C:\\Users\\Usuario\\Documents\\JupyterFolder\\unimi_files\\IR\\attempt01\\glossary.txt' # Replace with the path to your text file\n",
    "with open(file_path, 'r') as file: lines = file.readlines()\n",
    "glossary = [line.strip() for line in lines]\n",
    "# print(glossary[:10])\n",
    "\n",
    "file_path = r'C:\\Users\\Usuario\\Documents\\JupyterFolder\\unimi_files\\IR\\attempt01\\target_topics.txt'\n",
    "with open(file_path, 'r') as file: lines = file.readlines()\n",
    "targets = [line.strip() for line in lines]\n",
    "# print(targets[:10])\n",
    "\n",
    "\n",
    "import gensim\n",
    "from gensim.utils import simple_preprocess\n",
    "from gensim.parsing.preprocessing import STOPWORDS\n",
    "\n",
    "import nltk\n",
    "from nltk.stem import WordNetLemmatizer, SnowballStemmer\n",
    "from nltk.corpus import wordnet\n",
    "from nltk.tokenize import word_tokenize\n",
    "\n",
    "import numpy as np\n",
    "np.random.seed(400)\n",
    "\n",
    "stemmer = SnowballStemmer(\"english\")\n",
    "lemmatizer = WordNetLemmatizer()\n",
    "\n",
    "def lemmatize_stemming(text):\n",
    "    return stemmer.stem(WordNetLemmatizer().lemmatize(text, pos='v'))\n",
    "\n",
    "def lemmatize(token):\n",
    "    return lemmatizer.lemmatize(token, pos='v')\n",
    "\n",
    "def preprocess(text):\n",
    "    result=[]\n",
    "    for token in gensim.utils.simple_preprocess(text) :\n",
    "        if token not in gensim.parsing.preprocessing.STOPWORDS and len(token) > 2:\n",
    "            result.append(lemmatize_stemming(token))\n",
    "    return result\n",
    "\n",
    "def save_reference(text):\n",
    "    result=[]\n",
    "    for token in gensim.utils.simple_preprocess(text) :\n",
    "        if token not in gensim.parsing.preprocessing.STOPWORDS and len(token) > 2:\n",
    "            result.append(lemmatize(token))\n",
    "    return result\n",
    "\n",
    "glossary_processed = [preprocess(doc) for doc in glossary]\n",
    "glossary_reference = [save_reference(doc) for doc in glossary]\n",
    "\n",
    "targets_processed = [preprocess(doc) for doc in targets]\n",
    "targets_reference = [save_reference(doc) for doc in targets]\n",
    "\n",
    "processed_docs = glossary_processed + targets_processed\n",
    "reference_docs = glossary_reference + targets_reference\n",
    "\n",
    "stem_ref = [stem for doc in processed_docs for stem in doc]\n",
    "lemm_ref = [lemma for doc in reference_docs for lemma in doc]"
   ]
  },
  {
   "cell_type": "markdown",
   "id": "d8b3e528",
   "metadata": {},
   "source": [
    "## Create corpus"
   ]
  },
  {
   "cell_type": "code",
   "execution_count": 6,
   "id": "07bd16ee",
   "metadata": {},
   "outputs": [
    {
     "name": "stdout",
     "output_type": "stream",
     "text": [
      "Length of the corpus:  73336 \n",
      "\n",
      "Word 54 (“deck”) appears 1 time.\n",
      "Word 826 (“draw”) appears 1 time.\n",
      "Word 854 (“best”) appears 1 time.\n",
      "Word 961 (“year”) appears 1 time.\n",
      "Word 1132 (“incred”) appears 1 time.\n",
      "Word 1229 (“negat”) appears 1 time.\n",
      "Word 1288 (“enorm”) appears 1 time.\n"
     ]
    }
   ],
   "source": [
    "import pandas as pd\n",
    "pd.set_option('display.max_columns', None)\n",
    "import json\n",
    "import os\n",
    "import numpy as np\n",
    "import ast\n",
    "\n",
    "path_original_data = r'C:\\Users\\Usuario\\Documents\\JupyterFolder\\unimi_files\\IR\\attempt01'\n",
    "df = pd.read_csv(os.path.join(path_original_data,'post_processed_comment_data_demo.csv'), low_memory=False)\n",
    "string_list = df['gensim_comment'].tolist()\n",
    "comments_list = [ast.literal_eval(s) for s in string_list]\n",
    "\n",
    "import random\n",
    "\n",
    "bow_corpus = [dictionary.doc2bow(doc) for doc in comments_list]\n",
    "print('Length of the corpus: ', len(bow_corpus), '\\n')\n",
    "\n",
    "random_number = round(random.uniform(0, len(bow_corpus)))\n",
    "bow_doc_x = bow_corpus[random_number]\n",
    "for i in range(len(bow_doc_x)): print(\"Word {} (“{}”) appears {} time.\".format(bow_doc_x[i][0], dictionary[bow_doc_x[i][0]], bow_doc_x[i][1]))"
   ]
  },
  {
   "cell_type": "markdown",
   "id": "c4dab6ee",
   "metadata": {},
   "source": [
    "## Train model"
   ]
  },
  {
   "cell_type": "code",
   "execution_count": 7,
   "id": "478438f2",
   "metadata": {},
   "outputs": [],
   "source": [
    "# lda = gensim.models.LdaMulticore(bow_corpus, num_topics = 20, id2word = dictionary, passes = 50, workers = 2)\n",
    "\n",
    "# Lda = gensim.models.ldamodel.LdaModel\n",
    "# lda = Lda(bow_corpus, num_topics=3, id2word = dictionary, passes=50)"
   ]
  },
  {
   "cell_type": "markdown",
   "id": "7143fddf",
   "metadata": {},
   "source": [
    "## Compute coherence"
   ]
  },
  {
   "cell_type": "code",
   "execution_count": 8,
   "id": "3f7e3eb6",
   "metadata": {},
   "outputs": [],
   "source": [
    "def write_to_file(string, filename):\n",
    "    with open(filename, 'a') as file: file.write(string + '\\n')"
   ]
  },
  {
   "cell_type": "code",
   "execution_count": 9,
   "id": "85bd55e8",
   "metadata": {
    "scrolled": false
   },
   "outputs": [
    {
     "name": "stdout",
     "output_type": "stream",
     "text": [
      "COHERENCE (2): -2.160718852152595\n",
      "COHERENCE (2): 0.44292209759200213\n",
      "COHERENCE (2): 8.944108495228826e-05\n",
      "COHERENCE (6): -2.438004136782084\n",
      "COHERENCE (6): 0.5182568222420105\n",
      "COHERENCE (6): 0.03847095598071221\n",
      "COHERENCE (10): -2.694958123617773\n",
      "COHERENCE (10): 0.5210771278699302\n",
      "COHERENCE (10): 0.04733433567737473\n",
      "COHERENCE (14): -3.0991802119715155\n",
      "COHERENCE (14): 0.508397026071734\n",
      "COHERENCE (14): 0.03545091248997872\n",
      "COHERENCE (18): -3.0596238087411525\n",
      "COHERENCE (18): 0.49782813920882624\n",
      "COHERENCE (18): 0.032473963964275904\n",
      "COHERENCE (22): -3.223179360426133\n",
      "COHERENCE (22): 0.5002360871636541\n",
      "COHERENCE (22): 0.026329005376549645\n",
      "COHERENCE (26): -3.0756944548393155\n",
      "COHERENCE (26): 0.4929829716530439\n",
      "COHERENCE (26): 0.032443077371715805\n",
      "COHERENCE (30): -3.485277778423743\n",
      "COHERENCE (30): 0.4744936273777896\n",
      "COHERENCE (30): 0.012954161719511146\n",
      "COHERENCE (34): -3.160709908935156\n",
      "COHERENCE (34): 0.47088150940282175\n",
      "COHERENCE (34): 0.026830069074162407\n",
      "COHERENCE (38): -3.5161765901861957\n",
      "COHERENCE (38): 0.46863430427474045\n",
      "COHERENCE (38): 0.01685570119991399\n"
     ]
    }
   ],
   "source": [
    "from gensim.models.coherencemodel import CoherenceModel\n",
    "\n",
    "for n in range(2, 42, 4):\n",
    "\n",
    "    lda = gensim.models.LdaMulticore(bow_corpus, num_topics = n, id2word = dictionary, passes = 50, workers = 2)\n",
    "\n",
    "    # Assuming you have already trained the LDA model and have the necessary variables: lda, bow_corpus, and dictionary\n",
    "\n",
    "    coherence_model = CoherenceModel(model=lda, corpus=bow_corpus, dictionary=dictionary, coherence='u_mass')\n",
    "    coherence = coherence_model.get_coherence()\n",
    "\n",
    "    # Retrieve the top topics and their coherence scores\n",
    "    top_topics = coherence_model.get_coherence_per_topic()\n",
    "\n",
    "    # Print the top topics and their coherence scores\n",
    "    # for i, coherence_score in enumerate(top_topics[:3]):\n",
    "        # print(f\"Topic #{i+1}: Coherence Score = {coherence_score:.4f}\")\n",
    "    s = f'COHERENCE ({n}): {coherence}'\n",
    "    write_to_file(s, 'coherence.txt')\n",
    "    print(s)    \n",
    "\n",
    "\n",
    "\n",
    "    coherence_model = CoherenceModel(model=lda, texts=comments_list, dictionary=dictionary, coherence='c_v')\n",
    "    coherence = coherence_model.get_coherence()\n",
    "\n",
    "    # Retrieve the top topics and their coherence scores\n",
    "    top_topics = coherence_model.get_coherence_per_topic()\n",
    "\n",
    "    # Print the top topics and their coherence scores\n",
    "    # for i, coherence_score in enumerate(top_topics[:3]):\n",
    "        # print(f\"Topic #{i+1}: Coherence Score = {coherence_score:.4f}\")\n",
    "    s = f'COHERENCE ({n}): {coherence}'\n",
    "    write_to_file(s, 'coherence.txt')\n",
    "    print(s)  \n",
    "\n",
    "\n",
    "\n",
    "    coherence_model = CoherenceModel(model=lda, texts=comments_list, dictionary=dictionary, coherence='c_npmi')\n",
    "    coherence = coherence_model.get_coherence()\n",
    "\n",
    "    # Retrieve the top topics and their coherence scores\n",
    "    top_topics = coherence_model.get_coherence_per_topic()\n",
    "\n",
    "    # Print the top topics and their coherence scores\n",
    "    # for i, coherence_score in enumerate(top_topics[:3]):\n",
    "        # print(f\"Topic #{i+1}: Coherence Score = {coherence_score:.4f}\")\n",
    "    s = f'COHERENCE ({n}): {coherence}'\n",
    "    write_to_file(s, 'coherence.txt')\n",
    "    print(s)    "
   ]
  },
  {
   "cell_type": "code",
   "execution_count": 30,
   "id": "f63c4607",
   "metadata": {},
   "outputs": [
    {
     "data": {
      "image/png": "[encoded data removed]",
      "text/plain": [
       "<Figure size 1500x500 with 3 Axes>"
      ]
     },
     "metadata": {},
     "output_type": "display_data"
    }
   ],
   "source": [
    "import matplotlib.pyplot as plt\n",
    "\n",
    "# Read the data from the text file\n",
    "with open('coherence.txt', 'r') as file:\n",
    "    lines = file.readlines()\n",
    "\n",
    "# Extract every three lines for each measure\n",
    "coherence_data = [lines[i::3] for i in range(3)]\n",
    "\n",
    "# Create a grid of subplots\n",
    "fig, axes = plt.subplots(1, 3, figsize=(15, 5))\n",
    "\n",
    "# Iterate over each measure and plot the data\n",
    "measures = ['u_mass', 'c_v', 'c_npmi']\n",
    "for i, measure_data in enumerate(coherence_data):\n",
    "    # Extract x and y values from the data\n",
    "    data = [(2 + 4 * j, float(line.strip().split(':')[1])) for j, line in enumerate(measure_data)]\n",
    "    x_values, y_values = zip(*data)\n",
    "\n",
    "    # Plot the graph on the corresponding subplot\n",
    "    axes[i].plot(x_values, y_values, marker='o')\n",
    "\n",
    "    # Set x-axis ticks in increments of four starting from 2\n",
    "    x_ticks = range(2, max(x_values) + 1, 4)\n",
    "    axes[i].set_xticks(x_ticks)\n",
    "\n",
    "    # Set labels and title for the subplot\n",
    "    axes[i].set_xlabel('X')\n",
    "    axes[i].set_ylabel('Y')\n",
    "    axes[i].set_title(measures[i])\n",
    "\n",
    "# Adjust the layout and spacing between subplots\n",
    "plt.tight_layout()\n",
    "\n",
    "# Show the combined graph\n",
    "plt.show()"
   ]
  },
  {
   "cell_type": "markdown",
   "id": "81d5aa38",
   "metadata": {},
   "source": [
    "## Human verification"
   ]
  },
  {
   "cell_type": "code",
   "execution_count": 62,
   "id": "6c1262f8",
   "metadata": {
    "scrolled": true
   },
   "outputs": [
    {
     "name": "stdout",
     "output_type": "stream",
     "text": [
      "0 0.051*\"differ\" + 0.045*\"replay\" + 0.042*\"strategi\" + 0.028*\"lot\" + 0.026*\"high\" + 0.020*\"theme\" + 0.017*\"mar\" + 0.015*\"incred\" + 0.015*\"terraform\" + 0.014*\"mechan\" \n",
      "\n",
      "1 0.171*\"expans\" + 0.128*\"look\" + 0.057*\"better\" + 0.057*\"forward\" + 0.057*\"add\" + 0.043*\"base\" + 0.032*\"new\" + 0.014*\"origin\" + 0.014*\"addit\" + 0.014*\"need\" \n",
      "\n",
      "2 0.136*\"love\" + 0.034*\"favorit\" + 0.030*\"get\" + 0.029*\"year\" + 0.026*\"enjoy\" + 0.025*\"group\" + 0.024*\"friend\" + 0.023*\"tabl\" + 0.022*\"want\" + 0.021*\"wife\" \n",
      "\n",
      "3 0.048*\"bite\" + 0.034*\"feel\" + 0.034*\"think\" + 0.030*\"lot\" + 0.028*\"long\" + 0.026*\"littl\" + 0.022*\"enjoy\" + 0.019*\"take\" + 0.017*\"interest\" + 0.016*\"pretti\" \n",
      "\n",
      "4 0.081*\"build\" + 0.074*\"worker\" + 0.070*\"placement\" + 0.069*\"deck\" + 0.048*\"resourc\" + 0.041*\"manag\" + 0.029*\"area\" + 0.027*\"control\" + 0.018*\"race\" + 0.017*\"combin\" \n",
      "\n"
     ]
    }
   ],
   "source": [
    "for topic, words in lda.print_topics()[:5]:\n",
    "    print(topic, words, '\\n')"
   ]
  },
  {
   "cell_type": "code",
   "execution_count": 63,
   "id": "ae89f743",
   "metadata": {},
   "outputs": [],
   "source": [
    "def find_element_in_lists(a, b, target):\n",
    "    try:\n",
    "        index = a.index(target)\n",
    "        return b[index]\n",
    "    except ValueError:\n",
    "        return None"
   ]
  },
  {
   "cell_type": "code",
   "execution_count": 64,
   "id": "82dab2fc",
   "metadata": {},
   "outputs": [],
   "source": [
    "def extract_comment(n):\n",
    "    target_bow = bow_corpus[n]  # Example target `bow_corpus` element to find its corresponding index in `comments_list`\n",
    "\n",
    "    index = next((i for i, bow_element in enumerate(bow_corpus) if bow_element == target_bow), None)\n",
    "\n",
    "    if index is not None:\n",
    "        print(\"Index of the element in `comments_list`:\", index)\n",
    "    else:\n",
    "        print(\"Element not found in `comments_list`.\")\n",
    "    print()\n",
    "\n",
    "    document_bow = bow_corpus[index]\n",
    "\n",
    "    # Convert the document back to its original form\n",
    "    document_original = \" \".join([dictionary[id] for id, _ in document_bow])\n",
    "\n",
    "    # Print the original document\n",
    "    print(\"Original Document:\")\n",
    "    print(document_original)\n",
    "    print()\n",
    "\n",
    "    element = comments_list[index]\n",
    "\n",
    "    # Retrieve the corresponding 'comment' field from df\n",
    "    comment = df.loc[index, 'comment']\n",
    "\n",
    "    print(\"Element from comments_list:\")\n",
    "    print(element)\n",
    "    print()\n",
    "    print(\"Corresponding 'comment' field:\")\n",
    "    print(comment)\n",
    "    print()\n",
    "\n",
    "    return document_bow"
   ]
  },
  {
   "cell_type": "code",
   "execution_count": 69,
   "id": "0cf6f51b",
   "metadata": {},
   "outputs": [
    {
     "name": "stdout",
     "output_type": "stream",
     "text": [
      "Index of the element in `comments_list`: 7391\n",
      "\n",
      "Original Document:\n",
      "action collect go think theme race placement worker land need potenti demand explor quick advanc feel want way start best abl finish actual high playthrough later fulli order combo island choos journey\n",
      "\n",
      "Element from comments_list:\n",
      "['great', 'worker', 'placement', 'game', 'need', 'playthrough', 'order', 'fulli', 'grap', 'potenti', 'game', 'start', 'shine', 'abl', 'action', 'combo', 'go', 'best', 'way', 'advanc', 'action', 'need', 'seal', 'high', 'demand', 'game', 'feel', 'like', 'race', 'quick', 'choos', 'want', 'finish', 'explor', 'land', 'sea', 'specimen', 'theme', 'journey', 'island', 'collect', 'specimen', 'actual', 'theori', 'evolut', 'actual', 'think', 'later', 'england']\n",
      "\n",
      "Corresponding 'comment' field:\n",
      "A great worker placement game that really needs more than one playthrough in order to fully grap its potential. The game really starts to shine once you are able to get action combo's going and the best way to do this is by using the more advanced actions. For this you'll need to get seals, which are in high demand. This game also feels very much like a race and you very quickly have to choose in which one you want to finish first (exploration on land/sea, which specimens etc). The theme is much more about the journey across the island and collecting specimens than the actual theory of evolution itself (which he actually thought of much later back in England).\n",
      "\n",
      "Topics:\n",
      "Topic ID: 19, Probability: 0.4274671673774719\n",
      "WIN 0.021436645\n",
      "TURN 0.019789094\n",
      "feel 0.017645983\n",
      "RANDOM 0.017132899\n",
      "LUCK 0.015825817\n",
      "draw 0.015724309\n",
      "thing 0.012791393\n",
      "END 0.012701223\n",
      "way 0.010051467\n",
      "PLAN 0.009615726\n",
      "\n",
      "Topic ID: 7, Probability: 0.20100440084934235\n",
      "rat 0.05189922\n",
      "hour 0.03558537\n",
      "want 0.02415652\n",
      "buy 0.023374114\n",
      "THINK 0.018709656\n",
      "UPDATE 0.016724134\n",
      "get 0.016705327\n",
      "higher 0.013214356\n",
      "TAKE 0.012503228\n",
      "high 0.012430062\n",
      "\n",
      "Topic ID: 4, Probability: 0.15639716386795044\n",
      "BUILD 0.080599576\n",
      "WORKER 0.07446417\n",
      "PLACEMENT 0.07038055\n",
      "DECK 0.06907055\n",
      "RESOURCE 0.047504548\n",
      "MANAGEMENT 0.040783875\n",
      "AREA 0.029402249\n",
      "CONTROL 0.027366899\n",
      "RACE 0.017688084\n",
      "COMBINE 0.016955076\n",
      "\n"
     ]
    }
   ],
   "source": [
    "import random\n",
    "from nltk.stem import WordNetLemmatizer\n",
    "import operator\n",
    "\n",
    "lemmatizer = WordNetLemmatizer()\n",
    "random_number = round(random.uniform(0, len(bow_corpus)))\n",
    "\n",
    "document_topics = lda.get_document_topics(extract_comment(random_number))\n",
    "sorted_topics = sorted(document_topics, key=operator.itemgetter(1), reverse=True)\n",
    "\n",
    "print(\"Topics:\")\n",
    "for topic_id, topic_prob in sorted_topics[:3]:\n",
    "    print(f\"Topic ID: {topic_id}, Probability: {topic_prob}\")\n",
    "    for word_id, p in lda.get_topic_terms(topic_id):\n",
    "        if find_element_in_lists(stem_ref, lemm_ref, dictionary[word_id]) is None: \n",
    "            word = lemmatizer.lemmatize(dictionary[word_id])\n",
    "        else:    \n",
    "            word = find_element_in_lists(stem_ref, lemm_ref, dictionary[word_id]).upper()\n",
    "        print(word, p)\n",
    "    print()\n",
    " "
   ]
  },
  {
   "cell_type": "markdown",
   "id": "886c8788",
   "metadata": {},
   "source": [
    "## Trim the dictionary of common terms"
   ]
  },
  {
   "cell_type": "code",
   "execution_count": 52,
   "id": "015426b1",
   "metadata": {},
   "outputs": [],
   "source": [
    "def write_words_to_file(word_list, filename):\n",
    "    with open(filename, 'a') as file:\n",
    "        for word in word_list:\n",
    "            file.write(word + '\\n')"
   ]
  },
  {
   "cell_type": "code",
   "execution_count": 51,
   "id": "ed2cf294",
   "metadata": {},
   "outputs": [
    {
     "name": "stdout",
     "output_type": "stream",
     "text": [
      "time: 5\n",
      "card: 5\n",
      "great: 4\n",
      "like: 3\n",
      "good: 3\n",
      "board: 3\n",
      "fun: 3\n"
     ]
    }
   ],
   "source": [
    "from gensim import models\n",
    "\n",
    "# Get the topic-word distribution matrix\n",
    "topic_word_matrix = lda.get_topics()\n",
    "\n",
    "# Get the vocabulary from the LDA model\n",
    "vocab = lda.id2word\n",
    "\n",
    "word_counts = {}\n",
    "\n",
    "# Iterate over each topic\n",
    "for topic_idx, topic_words in enumerate(topic_word_matrix):\n",
    "    # print(f\"Topic {topic_idx + 1}:\")\n",
    "    \n",
    "    # Sort the word indices based on the word probabilities\n",
    "    word_indices = topic_words.argsort()[::-1]\n",
    "    \n",
    "    # Iterate over the top 10 words for the topic\n",
    "    for rank, word_idx in enumerate(word_indices[:10]):\n",
    "        word = vocab[word_idx]\n",
    "        word_prob = topic_words[word_idx]\n",
    "        \n",
    "        if word in word_counts:\n",
    "            word_counts[word] += 1\n",
    "        else:\n",
    "            word_counts[word] = 1\n",
    "        \n",
    "        # print(f\"   {rank + 1}. {word}: {word_prob:.4f}\")\n",
    "\n",
    "sorted_word_counts = sorted(word_counts.items(), key=lambda x: x[1], reverse=True)\n",
    "words_to_remove = []\n",
    "for word, count in sorted_word_counts:\n",
    "    if count > 2: \n",
    "        print(f'{word}: {count}') \n",
    "        words_to_remove.append(word)\n",
    "        \n",
    "write_words_to_file(words_to_remove, 'words_to_remove.txt')        "
   ]
  }
 ],
 "metadata": {
  "kernelspec": {
   "display_name": "Python 3 (ipykernel)",
   "language": "python",
   "name": "python3"
  },
  "language_info": {
   "codemirror_mode": {
    "name": "ipython",
    "version": 3
   },
   "file_extension": ".py",
   "mimetype": "text/x-python",
   "name": "python",
   "nbconvert_exporter": "python",
   "pygments_lexer": "ipython3",
   "version": "3.9.13"
  }
 },
 "nbformat": 4,
 "nbformat_minor": 5
}
